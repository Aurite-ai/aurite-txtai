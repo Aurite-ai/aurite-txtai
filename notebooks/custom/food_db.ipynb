{
 "cells": [
  {
   "cell_type": "markdown",
   "metadata": {},
   "source": [
    "## Food DB\n",
    "# This notebook demonstrates using txtai embeddings to create a searchable food database with rich metadata.\n",
    "# It shows how to index food items with details like cuisine type, price, location and ingredients,\n",
    "# enabling both semantic and hybrid search capabilities.\n"
   ]
  },
  {
   "cell_type": "code",
   "execution_count": 4,
   "metadata": {},
   "outputs": [],
   "source": [
    "from txtai import Embeddings\n",
    "import json\n",
    "\n",
    "# Sample food dataset with rich metadata\n",
    "foods = [\n",
    "    {\n",
    "        \"text\": \"Fresh Homemade Italian Pizza Margherita with basil and mozzarella\",\n",
    "        \"metadata\": {\n",
    "            \"cuisine\": \"Italian\",\n",
    "            \"type\": \"pizza\",\n",
    "            \"price\": 15.99,\n",
    "            \"location\": \"Little Italy, NYC\",\n",
    "            \"ingredients\": [\"tomato sauce\", \"mozzarella\", \"basil\", \"olive oil\"],\n",
    "            \"dietary\": [\"vegetarian\"]\n",
    "        }\n",
    "    },\n",
    "    {\n",
    "        \"text\": \"Spicy Thai Red Curry with coconut milk and jasmine rice\",\n",
    "        \"metadata\": {\n",
    "            \"cuisine\": \"Thai\",\n",
    "            \"type\": \"curry\",\n",
    "            \"price\": 12.99,\n",
    "            \"location\": \"Bangkok Kitchen, LA\",\n",
    "            \"ingredients\": [\"coconut milk\", \"red curry paste\", \"bamboo shoots\", \"jasmine rice\"],\n",
    "            \"dietary\": [\"gluten-free\"]\n",
    "        }\n",
    "    }\n",
    "]\n",
    "\n",
    "def create_food_index():\n",
    "    # Create embeddings instance with our standard config\n",
    "    embeddings = Embeddings({\n",
    "        \"path\": \"sentence-transformers/nli-mpnet-base-v2\",\n",
    "        \"content\": True,\n",
    "        \"backend\": \"faiss\",\n",
    "        \"indexes\": {\n",
    "            \"sparse\": {\n",
    "                \"bm25\": {\n",
    "                    \"terms\": True,\n",
    "                    \"normalize\": True\n",
    "                }\n",
    "            },\n",
    "            \"dense\": {}\n",
    "        },\n",
    "        \"batch\": 32,\n",
    "        \"normalize\": True\n",
    "    })\n",
    "\n",
    "    # Index the data\n",
    "    embeddings.index(foods)\n",
    "\n",
    "    # Save the index\n",
    "    embeddings.save(\"food-index\")\n",
    "    return embeddings"
   ]
  },
  {
   "cell_type": "code",
   "execution_count": 3,
   "metadata": {},
   "outputs": [
    {
     "name": "stdout",
     "output_type": "stream",
     "text": [
      "\n",
      "Semantic Search for 'spicy asian food':\n",
      "\n",
      "[\n",
      "  {\n",
      "    \"id\": \"1\",\n",
      "    \"text\": \"Spicy Thai Red Curry with coconut milk and jasmine rice\",\n",
      "    \"score\": 0.5766427516937256\n",
      "  },\n",
      "  {\n",
      "    \"id\": \"0\",\n",
      "    \"text\": \"Fresh Homemade Italian Pizza Margherita with basil and mozzarella\",\n",
      "    \"score\": 0.289595365524292\n",
      "  }\n",
      "]\n",
      "\n",
      "Hybrid Search for 'italian vegetarian':\n",
      "\n",
      "[\n",
      "  {\n",
      "    \"text\": \"Fresh Homemade Italian Pizza Margherita with basil and mozzarella\",\n",
      "    \"score\": 0.28662943840026855,\n",
      "    \"metadata\": \"{\\\"cuisine\\\":\\\"Italian\\\",\\\"type\\\":\\\"pizza\\\",\\\"price\\\":15.99,\\\"location\\\":\\\"Little Italy, NYC\\\",\\\"ingredients\\\":[\\\"tomato sauce\\\",\\\"mozzarella\\\",\\\"basil\\\",\\\"olive oil\\\"],\\\"dietary\\\":[\\\"vegetarian\\\"]}\"\n",
      "  },\n",
      "  {\n",
      "    \"text\": \"Spicy Thai Red Curry with coconut milk and jasmine rice\",\n",
      "    \"score\": 0.16934195160865784,\n",
      "    \"metadata\": \"{\\\"cuisine\\\":\\\"Thai\\\",\\\"type\\\":\\\"curry\\\",\\\"price\\\":12.99,\\\"location\\\":\\\"Bangkok Kitchen, LA\\\",\\\"ingredients\\\":[\\\"coconut milk\\\",\\\"red curry paste\\\",\\\"bamboo shoots\\\",\\\"jasmine rice\\\"],\\\"dietary\\\":[\\\"gluten-free\\\"]}\"\n",
      "  }\n",
      "]\n"
     ]
    }
   ],
   "source": [
    "def test_searches(embeddings):\n",
    "    # Test semantic search\n",
    "    print(\"\\nSemantic Search for 'spicy asian food':\\n\")\n",
    "    print(json.dumps(embeddings.search(\"spicy asian food\"), indent=2))\n",
    "\n",
    "    # Test hybrid search\n",
    "    print(\"\\nHybrid Search for 'italian vegetarian':\\n\")\n",
    "    print(json.dumps(embeddings.search(\n",
    "        \"SELECT text, score, metadata FROM txtai WHERE similar('italian') AND similar('vegetarian')\"\n",
    "    ), indent=2))\n",
    "\n",
    "if __name__ == \"__main__\":\n",
    "    embeddings = create_food_index()\n",
    "    test_searches(embeddings)"
   ]
  },
  {
   "cell_type": "markdown",
   "metadata": {},
   "source": []
  }
 ],
 "metadata": {
  "kernelspec": {
   "display_name": ".venv",
   "language": "python",
   "name": "python3"
  },
  "language_info": {
   "codemirror_mode": {
    "name": "ipython",
    "version": 3
   },
   "file_extension": ".py",
   "mimetype": "text/x-python",
   "name": "python",
   "nbconvert_exporter": "python",
   "pygments_lexer": "ipython3",
   "version": "3.12.3"
  }
 },
 "nbformat": 4,
 "nbformat_minor": 2
}
