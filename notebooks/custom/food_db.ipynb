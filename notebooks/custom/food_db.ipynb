{
 "cells": [
  {
   "cell_type": "markdown",
   "metadata": {},
   "source": [
    "## Food DB\n",
    "# This notebook demonstrates using txtai embeddings to create a searchable food database with rich metadata.\n",
    "# It shows how to index food items with details like cuisine type, price, location and ingredients,\n",
    "# enabling both semantic and hybrid search capabilities.\n"
   ]
  },
  {
   "cell_type": "code",
   "execution_count": 2,
   "metadata": {},
   "outputs": [
    {
     "name": "stdout",
     "output_type": "stream",
     "text": [
      "\n",
      "Semantic Search for 'spicy asian food':\n",
      "\n",
      "[\n",
      "  {\n",
      "    \"id\": \"1\",\n",
      "    \"text\": \"Spicy Thai Red Curry with coconut milk and jasmine rice\",\n",
      "    \"score\": 0.5766427516937256\n",
      "  },\n",
      "  {\n",
      "    \"id\": \"0\",\n",
      "    \"text\": \"Fresh Homemade Italian Pizza Margherita with basil and mozzarella\",\n",
      "    \"score\": 0.289595365524292\n",
      "  }\n",
      "]\n",
      "\n",
      "Hybrid Search for 'italian vegetarian':\n",
      "\n"
     ]
    },
    {
     "ename": "SQLError",
     "evalue": "unable to use function bm25 in the requested context",
     "output_type": "error",
     "traceback": [
      "\u001b[0;31m---------------------------------------------------------------------------\u001b[0m",
      "\u001b[0;31mSQLError\u001b[0m                                  Traceback (most recent call last)",
      "Cell \u001b[0;32mIn[2], line 69\u001b[0m\n\u001b[1;32m     67\u001b[0m \u001b[38;5;28;01mif\u001b[39;00m \u001b[38;5;18m__name__\u001b[39m \u001b[38;5;241m==\u001b[39m \u001b[38;5;124m\"\u001b[39m\u001b[38;5;124m__main__\u001b[39m\u001b[38;5;124m\"\u001b[39m:\n\u001b[1;32m     68\u001b[0m     embeddings \u001b[38;5;241m=\u001b[39m create_food_index()\n\u001b[0;32m---> 69\u001b[0m     \u001b[43mtest_searches\u001b[49m\u001b[43m(\u001b[49m\u001b[43membeddings\u001b[49m\u001b[43m)\u001b[49m\n",
      "Cell \u001b[0;32mIn[2], line 63\u001b[0m, in \u001b[0;36mtest_searches\u001b[0;34m(embeddings)\u001b[0m\n\u001b[1;32m     61\u001b[0m \u001b[38;5;66;03m# Test hybrid search\u001b[39;00m\n\u001b[1;32m     62\u001b[0m \u001b[38;5;28mprint\u001b[39m(\u001b[38;5;124m\"\u001b[39m\u001b[38;5;130;01m\\n\u001b[39;00m\u001b[38;5;124mHybrid Search for \u001b[39m\u001b[38;5;124m'\u001b[39m\u001b[38;5;124mitalian vegetarian\u001b[39m\u001b[38;5;124m'\u001b[39m\u001b[38;5;124m:\u001b[39m\u001b[38;5;130;01m\\n\u001b[39;00m\u001b[38;5;124m\"\u001b[39m)\n\u001b[0;32m---> 63\u001b[0m \u001b[38;5;28mprint\u001b[39m(json\u001b[38;5;241m.\u001b[39mdumps(\u001b[43membeddings\u001b[49m\u001b[38;5;241;43m.\u001b[39;49m\u001b[43msearch\u001b[49m\u001b[43m(\u001b[49m\n\u001b[1;32m     64\u001b[0m \u001b[43m    \u001b[49m\u001b[38;5;124;43m\"\u001b[39;49m\u001b[38;5;124;43mSELECT text, score, metadata FROM txtai WHERE similar(\u001b[39;49m\u001b[38;5;124;43m'\u001b[39;49m\u001b[38;5;124;43mitalian\u001b[39;49m\u001b[38;5;124;43m'\u001b[39;49m\u001b[38;5;124;43m) AND bm25(\u001b[39;49m\u001b[38;5;124;43m'\u001b[39;49m\u001b[38;5;124;43mvegetarian\u001b[39;49m\u001b[38;5;124;43m'\u001b[39;49m\u001b[38;5;124;43m)\u001b[39;49m\u001b[38;5;124;43m\"\u001b[39;49m\n\u001b[1;32m     65\u001b[0m \u001b[43m\u001b[49m\u001b[43m)\u001b[49m, indent\u001b[38;5;241m=\u001b[39m\u001b[38;5;241m2\u001b[39m))\n",
      "File \u001b[0;32m~/projects/txtai-aurite/.venv/lib/python3.12/site-packages/txtai/embeddings/base.py:370\u001b[0m, in \u001b[0;36mEmbeddings.search\u001b[0;34m(self, query, limit, weights, index, parameters, graph)\u001b[0m\n\u001b[1;32m    351\u001b[0m \u001b[38;5;28;01mdef\u001b[39;00m \u001b[38;5;21msearch\u001b[39m(\u001b[38;5;28mself\u001b[39m, query, limit\u001b[38;5;241m=\u001b[39m\u001b[38;5;28;01mNone\u001b[39;00m, weights\u001b[38;5;241m=\u001b[39m\u001b[38;5;28;01mNone\u001b[39;00m, index\u001b[38;5;241m=\u001b[39m\u001b[38;5;28;01mNone\u001b[39;00m, parameters\u001b[38;5;241m=\u001b[39m\u001b[38;5;28;01mNone\u001b[39;00m, graph\u001b[38;5;241m=\u001b[39m\u001b[38;5;28;01mFalse\u001b[39;00m):\n\u001b[1;32m    352\u001b[0m \u001b[38;5;250m    \u001b[39m\u001b[38;5;124;03m\"\"\"\u001b[39;00m\n\u001b[1;32m    353\u001b[0m \u001b[38;5;124;03m    Finds documents most similar to the input query. This method will run either an index search\u001b[39;00m\n\u001b[1;32m    354\u001b[0m \u001b[38;5;124;03m    or an index + database search depending on if a database is available.\u001b[39;00m\n\u001b[0;32m   (...)\u001b[0m\n\u001b[1;32m    367\u001b[0m \u001b[38;5;124;03m        graph when graph is set to True\u001b[39;00m\n\u001b[1;32m    368\u001b[0m \u001b[38;5;124;03m    \"\"\"\u001b[39;00m\n\u001b[0;32m--> 370\u001b[0m     results \u001b[38;5;241m=\u001b[39m \u001b[38;5;28;43mself\u001b[39;49m\u001b[38;5;241;43m.\u001b[39;49m\u001b[43mbatchsearch\u001b[49m\u001b[43m(\u001b[49m\u001b[43m[\u001b[49m\u001b[43mquery\u001b[49m\u001b[43m]\u001b[49m\u001b[43m,\u001b[49m\u001b[43m \u001b[49m\u001b[43mlimit\u001b[49m\u001b[43m,\u001b[49m\u001b[43m \u001b[49m\u001b[43mweights\u001b[49m\u001b[43m,\u001b[49m\u001b[43m \u001b[49m\u001b[43mindex\u001b[49m\u001b[43m,\u001b[49m\u001b[43m \u001b[49m\u001b[43m[\u001b[49m\u001b[43mparameters\u001b[49m\u001b[43m]\u001b[49m\u001b[43m,\u001b[49m\u001b[43m \u001b[49m\u001b[43mgraph\u001b[49m\u001b[43m)\u001b[49m\n\u001b[1;32m    371\u001b[0m     \u001b[38;5;28;01mreturn\u001b[39;00m results[\u001b[38;5;241m0\u001b[39m] \u001b[38;5;28;01mif\u001b[39;00m results \u001b[38;5;28;01melse\u001b[39;00m results\n",
      "File \u001b[0;32m~/projects/txtai-aurite/.venv/lib/python3.12/site-packages/txtai/embeddings/base.py:396\u001b[0m, in \u001b[0;36mEmbeddings.batchsearch\u001b[0;34m(self, queries, limit, weights, index, parameters, graph)\u001b[0m\n\u001b[1;32m    393\u001b[0m graph \u001b[38;5;241m=\u001b[39m graph \u001b[38;5;28;01mif\u001b[39;00m \u001b[38;5;28mself\u001b[39m\u001b[38;5;241m.\u001b[39mgraph \u001b[38;5;28;01melse\u001b[39;00m \u001b[38;5;28;01mFalse\u001b[39;00m\n\u001b[1;32m    395\u001b[0m \u001b[38;5;66;03m# Execute search\u001b[39;00m\n\u001b[0;32m--> 396\u001b[0m results \u001b[38;5;241m=\u001b[39m \u001b[43mSearch\u001b[49m\u001b[43m(\u001b[49m\u001b[38;5;28;43mself\u001b[39;49m\u001b[43m,\u001b[49m\u001b[43m \u001b[49m\u001b[43mindexids\u001b[49m\u001b[38;5;241;43m=\u001b[39;49m\u001b[43mgraph\u001b[49m\u001b[43m)\u001b[49m\u001b[43m(\u001b[49m\u001b[43mqueries\u001b[49m\u001b[43m,\u001b[49m\u001b[43m \u001b[49m\u001b[43mlimit\u001b[49m\u001b[43m,\u001b[49m\u001b[43m \u001b[49m\u001b[43mweights\u001b[49m\u001b[43m,\u001b[49m\u001b[43m \u001b[49m\u001b[43mindex\u001b[49m\u001b[43m,\u001b[49m\u001b[43m \u001b[49m\u001b[43mparameters\u001b[49m\u001b[43m)\u001b[49m\n\u001b[1;32m    398\u001b[0m \u001b[38;5;66;03m# Create subgraphs using results, if necessary\u001b[39;00m\n\u001b[1;32m    399\u001b[0m \u001b[38;5;28;01mreturn\u001b[39;00m [\u001b[38;5;28mself\u001b[39m\u001b[38;5;241m.\u001b[39mgraph\u001b[38;5;241m.\u001b[39mfilter(x) \u001b[38;5;28;01mfor\u001b[39;00m x \u001b[38;5;129;01min\u001b[39;00m results] \u001b[38;5;28;01mif\u001b[39;00m graph \u001b[38;5;28;01melse\u001b[39;00m results\n",
      "File \u001b[0;32m~/projects/txtai-aurite/.venv/lib/python3.12/site-packages/txtai/embeddings/search/base.py:72\u001b[0m, in \u001b[0;36mSearch.__call__\u001b[0;34m(self, queries, limit, weights, index, parameters)\u001b[0m\n\u001b[1;32m     70\u001b[0m \u001b[38;5;66;03m# Database search\u001b[39;00m\n\u001b[1;32m     71\u001b[0m \u001b[38;5;28;01mif\u001b[39;00m \u001b[38;5;129;01mnot\u001b[39;00m \u001b[38;5;28mself\u001b[39m\u001b[38;5;241m.\u001b[39mindexonly \u001b[38;5;129;01mand\u001b[39;00m \u001b[38;5;28mself\u001b[39m\u001b[38;5;241m.\u001b[39mdatabase:\n\u001b[0;32m---> 72\u001b[0m     \u001b[38;5;28;01mreturn\u001b[39;00m \u001b[38;5;28;43mself\u001b[39;49m\u001b[38;5;241;43m.\u001b[39;49m\u001b[43mdbsearch\u001b[49m\u001b[43m(\u001b[49m\u001b[43mqueries\u001b[49m\u001b[43m,\u001b[49m\u001b[43m \u001b[49m\u001b[43mlimit\u001b[49m\u001b[43m,\u001b[49m\u001b[43m \u001b[49m\u001b[43mweights\u001b[49m\u001b[43m,\u001b[49m\u001b[43m \u001b[49m\u001b[43mindex\u001b[49m\u001b[43m,\u001b[49m\u001b[43m \u001b[49m\u001b[43mparameters\u001b[49m\u001b[43m)\u001b[49m\n\u001b[1;32m     74\u001b[0m \u001b[38;5;66;03m# Default vector index query (sparse, dense or hybrid)\u001b[39;00m\n\u001b[1;32m     75\u001b[0m \u001b[38;5;28;01mreturn\u001b[39;00m \u001b[38;5;28mself\u001b[39m\u001b[38;5;241m.\u001b[39msearch(queries, limit, weights, index)\n",
      "File \u001b[0;32m~/projects/txtai-aurite/.venv/lib/python3.12/site-packages/txtai/embeddings/search/base.py:242\u001b[0m, in \u001b[0;36mSearch.dbsearch\u001b[0;34m(self, queries, limit, weights, index, parameters)\u001b[0m\n\u001b[1;32m    239\u001b[0m results \u001b[38;5;241m=\u001b[39m []\n\u001b[1;32m    240\u001b[0m \u001b[38;5;28;01mfor\u001b[39;00m x, query \u001b[38;5;129;01min\u001b[39;00m \u001b[38;5;28menumerate\u001b[39m(queries):\n\u001b[1;32m    241\u001b[0m     \u001b[38;5;66;03m# Run the database query, get matching bulk searches for current query\u001b[39;00m\n\u001b[0;32m--> 242\u001b[0m     result \u001b[38;5;241m=\u001b[39m \u001b[38;5;28;43mself\u001b[39;49m\u001b[38;5;241;43m.\u001b[39;49m\u001b[43mdatabase\u001b[49m\u001b[38;5;241;43m.\u001b[39;49m\u001b[43msearch\u001b[49m\u001b[43m(\u001b[49m\n\u001b[1;32m    243\u001b[0m \u001b[43m        \u001b[49m\u001b[43mquery\u001b[49m\u001b[43m,\u001b[49m\u001b[43m \u001b[49m\u001b[43m[\u001b[49m\u001b[43mr\u001b[49m\u001b[43m \u001b[49m\u001b[38;5;28;43;01mfor\u001b[39;49;00m\u001b[43m \u001b[49m\u001b[43my\u001b[49m\u001b[43m,\u001b[49m\u001b[43m \u001b[49m\u001b[43mr\u001b[49m\u001b[43m \u001b[49m\u001b[38;5;129;43;01min\u001b[39;49;00m\u001b[43m \u001b[49m\u001b[43mscan\u001b[49m\u001b[43m \u001b[49m\u001b[38;5;28;43;01mif\u001b[39;49;00m\u001b[43m \u001b[49m\u001b[43mx\u001b[49m\u001b[43m \u001b[49m\u001b[38;5;241;43m==\u001b[39;49m\u001b[43m \u001b[49m\u001b[43my\u001b[49m\u001b[43m]\u001b[49m\u001b[43m,\u001b[49m\u001b[43m \u001b[49m\u001b[43mlimit\u001b[49m\u001b[43m,\u001b[49m\u001b[43m \u001b[49m\u001b[43mparameters\u001b[49m\u001b[43m[\u001b[49m\u001b[43mx\u001b[49m\u001b[43m]\u001b[49m\u001b[43m \u001b[49m\u001b[38;5;28;43;01mif\u001b[39;49;00m\u001b[43m \u001b[49m\u001b[43mparameters\u001b[49m\u001b[43m \u001b[49m\u001b[38;5;129;43;01mand\u001b[39;49;00m\u001b[43m \u001b[49m\u001b[43mparameters\u001b[49m\u001b[43m[\u001b[49m\u001b[43mx\u001b[49m\u001b[43m]\u001b[49m\u001b[43m \u001b[49m\u001b[38;5;28;43;01melse\u001b[39;49;00m\u001b[43m \u001b[49m\u001b[38;5;28;43;01mNone\u001b[39;49;00m\u001b[43m,\u001b[49m\u001b[43m \u001b[49m\u001b[38;5;28;43mself\u001b[39;49m\u001b[38;5;241;43m.\u001b[39;49m\u001b[43mindexids\u001b[49m\n\u001b[1;32m    244\u001b[0m \u001b[43m    \u001b[49m\u001b[43m)\u001b[49m\n\u001b[1;32m    245\u001b[0m     results\u001b[38;5;241m.\u001b[39mappend(result)\n\u001b[1;32m    247\u001b[0m \u001b[38;5;28;01mreturn\u001b[39;00m results\n",
      "File \u001b[0;32m~/projects/txtai-aurite/.venv/lib/python3.12/site-packages/txtai/database/base.py:164\u001b[0m, in \u001b[0;36mDatabase.search\u001b[0;34m(self, query, similarity, limit, parameters, indexids)\u001b[0m\n\u001b[1;32m    161\u001b[0m query[\u001b[38;5;124m\"\u001b[39m\u001b[38;5;124mwhere\u001b[39m\u001b[38;5;124m\"\u001b[39m] \u001b[38;5;241m=\u001b[39m where\n\u001b[1;32m    163\u001b[0m \u001b[38;5;66;03m# Run query\u001b[39;00m\n\u001b[0;32m--> 164\u001b[0m \u001b[38;5;28;01mreturn\u001b[39;00m \u001b[38;5;28;43mself\u001b[39;49m\u001b[38;5;241;43m.\u001b[39;49m\u001b[43mquery\u001b[49m\u001b[43m(\u001b[49m\u001b[43mquery\u001b[49m\u001b[43m,\u001b[49m\u001b[43m \u001b[49m\u001b[43mlimit\u001b[49m\u001b[43m,\u001b[49m\u001b[43m \u001b[49m\u001b[43mparameters\u001b[49m\u001b[43m,\u001b[49m\u001b[43m \u001b[49m\u001b[43mindexids\u001b[49m\u001b[43m)\u001b[49m\n",
      "File \u001b[0;32m~/projects/txtai-aurite/.venv/lib/python3.12/site-packages/txtai/database/rdbms.py:218\u001b[0m, in \u001b[0;36mRDBMS.query\u001b[0;34m(self, query, limit, parameters, indexids)\u001b[0m\n\u001b[1;32m    216\u001b[0m \u001b[38;5;66;03m# Runs a user query through execute method, which has common user query handling logic\u001b[39;00m\n\u001b[1;32m    217\u001b[0m args \u001b[38;5;241m=\u001b[39m (query, parameters) \u001b[38;5;28;01mif\u001b[39;00m parameters \u001b[38;5;28;01melse\u001b[39;00m (query,)\n\u001b[0;32m--> 218\u001b[0m \u001b[38;5;28;43mself\u001b[39;49m\u001b[38;5;241;43m.\u001b[39;49m\u001b[43mexecute\u001b[49m\u001b[43m(\u001b[49m\u001b[38;5;28;43mself\u001b[39;49m\u001b[38;5;241;43m.\u001b[39;49m\u001b[43mcursor\u001b[49m\u001b[38;5;241;43m.\u001b[39;49m\u001b[43mexecute\u001b[49m\u001b[43m,\u001b[49m\u001b[43m \u001b[49m\u001b[38;5;241;43m*\u001b[39;49m\u001b[43margs\u001b[49m\u001b[43m)\u001b[49m\n\u001b[1;32m    220\u001b[0m \u001b[38;5;66;03m# Retrieve column list from query\u001b[39;00m\n\u001b[1;32m    221\u001b[0m columns \u001b[38;5;241m=\u001b[39m [c[\u001b[38;5;241m0\u001b[39m] \u001b[38;5;28;01mfor\u001b[39;00m c \u001b[38;5;129;01min\u001b[39;00m \u001b[38;5;28mself\u001b[39m\u001b[38;5;241m.\u001b[39mcursor\u001b[38;5;241m.\u001b[39mdescription]\n",
      "File \u001b[0;32m~/projects/txtai-aurite/.venv/lib/python3.12/site-packages/txtai/database/base.py:323\u001b[0m, in \u001b[0;36mDatabase.execute\u001b[0;34m(self, function, *args)\u001b[0m\n\u001b[1;32m    321\u001b[0m     \u001b[38;5;28;01mreturn\u001b[39;00m function(\u001b[38;5;241m*\u001b[39margs)\n\u001b[1;32m    322\u001b[0m \u001b[38;5;28;01mexcept\u001b[39;00m \u001b[38;5;167;01mException\u001b[39;00m \u001b[38;5;28;01mas\u001b[39;00m e:\n\u001b[0;32m--> 323\u001b[0m     \u001b[38;5;28;01mraise\u001b[39;00m SQLError(e) \u001b[38;5;28;01mfrom\u001b[39;00m \u001b[38;5;28;01mNone\u001b[39;00m\n",
      "\u001b[0;31mSQLError\u001b[0m: unable to use function bm25 in the requested context"
     ]
    }
   ],
   "source": [
    "from txtai import Embeddings\n",
    "import json\n",
    "\n",
    "# Sample food dataset with rich metadata\n",
    "foods = [\n",
    "    {\n",
    "        \"text\": \"Fresh Homemade Italian Pizza Margherita with basil and mozzarella\",\n",
    "        \"metadata\": {\n",
    "            \"cuisine\": \"Italian\",\n",
    "            \"type\": \"pizza\",\n",
    "            \"price\": 15.99,\n",
    "            \"location\": \"Little Italy, NYC\",\n",
    "            \"ingredients\": [\"tomato sauce\", \"mozzarella\", \"basil\", \"olive oil\"],\n",
    "            \"dietary\": [\"vegetarian\"]\n",
    "        }\n",
    "    },\n",
    "    {\n",
    "        \"text\": \"Spicy Thai Red Curry with coconut milk and jasmine rice\",\n",
    "        \"metadata\": {\n",
    "            \"cuisine\": \"Thai\",\n",
    "            \"type\": \"curry\",\n",
    "            \"price\": 12.99,\n",
    "            \"location\": \"Bangkok Kitchen, LA\",\n",
    "            \"ingredients\": [\"coconut milk\", \"red curry paste\", \"bamboo shoots\", \"jasmine rice\"],\n",
    "            \"dietary\": [\"gluten-free\"]\n",
    "        }\n",
    "    }\n",
    "]\n",
    "\n",
    "def create_food_index():\n",
    "    # Create embeddings instance with our standard config\n",
    "    embeddings = Embeddings({\n",
    "        \"path\": \"sentence-transformers/nli-mpnet-base-v2\",\n",
    "        \"content\": True,\n",
    "        \"backend\": \"faiss\",\n",
    "        \"indexes\": {\n",
    "            \"sparse\": {\n",
    "                \"bm25\": {\n",
    "                    \"terms\": True,\n",
    "                    \"normalize\": True\n",
    "                }\n",
    "            },\n",
    "            \"dense\": {}\n",
    "        },\n",
    "        \"batch\": 32,\n",
    "        \"normalize\": True\n",
    "    })\n",
    "\n",
    "    # Index the data\n",
    "    embeddings.index(foods)\n",
    "\n",
    "    # Save the index\n",
    "    embeddings.save(\"food-index\")\n",
    "    return embeddings"
   ]
  },
  {
   "cell_type": "code",
   "execution_count": 3,
   "metadata": {},
   "outputs": [
    {
     "name": "stdout",
     "output_type": "stream",
     "text": [
      "\n",
      "Semantic Search for 'spicy asian food':\n",
      "\n",
      "[\n",
      "  {\n",
      "    \"id\": \"1\",\n",
      "    \"text\": \"Spicy Thai Red Curry with coconut milk and jasmine rice\",\n",
      "    \"score\": 0.5766427516937256\n",
      "  },\n",
      "  {\n",
      "    \"id\": \"0\",\n",
      "    \"text\": \"Fresh Homemade Italian Pizza Margherita with basil and mozzarella\",\n",
      "    \"score\": 0.289595365524292\n",
      "  }\n",
      "]\n",
      "\n",
      "Hybrid Search for 'italian vegetarian':\n",
      "\n",
      "[\n",
      "  {\n",
      "    \"text\": \"Fresh Homemade Italian Pizza Margherita with basil and mozzarella\",\n",
      "    \"score\": 0.28662943840026855,\n",
      "    \"metadata\": \"{\\\"cuisine\\\":\\\"Italian\\\",\\\"type\\\":\\\"pizza\\\",\\\"price\\\":15.99,\\\"location\\\":\\\"Little Italy, NYC\\\",\\\"ingredients\\\":[\\\"tomato sauce\\\",\\\"mozzarella\\\",\\\"basil\\\",\\\"olive oil\\\"],\\\"dietary\\\":[\\\"vegetarian\\\"]}\"\n",
      "  },\n",
      "  {\n",
      "    \"text\": \"Spicy Thai Red Curry with coconut milk and jasmine rice\",\n",
      "    \"score\": 0.16934195160865784,\n",
      "    \"metadata\": \"{\\\"cuisine\\\":\\\"Thai\\\",\\\"type\\\":\\\"curry\\\",\\\"price\\\":12.99,\\\"location\\\":\\\"Bangkok Kitchen, LA\\\",\\\"ingredients\\\":[\\\"coconut milk\\\",\\\"red curry paste\\\",\\\"bamboo shoots\\\",\\\"jasmine rice\\\"],\\\"dietary\\\":[\\\"gluten-free\\\"]}\"\n",
      "  }\n",
      "]\n"
     ]
    }
   ],
   "source": [
    "def test_searches(embeddings):\n",
    "    # Test semantic search\n",
    "    print(\"\\nSemantic Search for 'spicy asian food':\\n\")\n",
    "    print(json.dumps(embeddings.search(\"spicy asian food\"), indent=2))\n",
    "\n",
    "    # Test hybrid search\n",
    "    print(\"\\nHybrid Search for 'italian vegetarian':\\n\")\n",
    "    print(json.dumps(embeddings.search(\n",
    "        \"SELECT text, score, metadata FROM txtai WHERE similar('italian') AND similar('vegetarian')\"\n",
    "    ), indent=2))\n",
    "\n",
    "if __name__ == \"__main__\":\n",
    "    embeddings = create_food_index()\n",
    "    test_searches(embeddings)"
   ]
  },
  {
   "cell_type": "markdown",
   "metadata": {},
   "source": []
  }
 ],
 "metadata": {
  "kernelspec": {
   "display_name": ".venv",
   "language": "python",
   "name": "python3"
  },
  "language_info": {
   "codemirror_mode": {
    "name": "ipython",
    "version": 3
   },
   "file_extension": ".py",
   "mimetype": "text/x-python",
   "name": "python",
   "nbconvert_exporter": "python",
   "pygments_lexer": "ipython3",
   "version": "3.12.3"
  }
 },
 "nbformat": 4,
 "nbformat_minor": 2
}
