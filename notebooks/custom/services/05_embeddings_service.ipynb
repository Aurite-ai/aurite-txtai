{
 "cells": [
  {
   "cell_type": "markdown",
   "metadata": {},
   "source": [
    "# Embeddings Service Testing\n",
    "\n",
    "This notebook tests the embeddings service implementation from `src/services/embeddings_service.py`.\n",
    "\n",
    "We'll test each storage type:\n",
    "1. Memory Storage (Basic functionality)\n",
    "2. SQLite Storage (Persistent local storage)\n",
    "3. Cloud Storage (GCS integration)"
   ]
  },
  {
   "cell_type": "code",
   "execution_count": 1,
   "metadata": {},
   "outputs": [],
   "source": [
    "import logging\n",
    "import json\n",
    "from pathlib import Path\n",
    "from src.config.settings import Settings\n",
    "from src.services.embeddings_service import EmbeddingsService\n",
    "\n",
    "# Configure logging\n",
    "logging.basicConfig(level=logging.INFO)\n",
    "logger = logging.getLogger(__name__)"
   ]
  },
  {
   "cell_type": "code",
   "execution_count": 2,
   "metadata": {},
   "outputs": [],
   "source": [
    "# Initialize settings for different storage types\n",
    "memory_settings = Settings(\n",
    "    EMBEDDINGS_MODEL=\"sentence-transformers/nli-mpnet-base-v2\",\n",
    "    EMBEDDINGS_STORAGE_TYPE=\"memory\",\n",
    "    EMBEDDINGS_CONTENT_PATH=\":memory:\",\n",
    ")\n",
    "\n",
    "sqlite_settings = Settings(\n",
    "    EMBEDDINGS_MODEL=\"sentence-transformers/nli-mpnet-base-v2\",\n",
    "    EMBEDDINGS_STORAGE_TYPE=\"sqlite\",\n",
    "    EMBEDDINGS_CONTENT_PATH=\"txtai/test/content.db\",\n",
    ")\n",
    "\n",
    "# Cloud settings require proper GCP credentials\n",
    "cloud_settings = Settings(\n",
    "    EMBEDDINGS_MODEL=\"sentence-transformers/nli-mpnet-base-v2\",\n",
    "    EMBEDDINGS_STORAGE_TYPE=\"cloud\",\n",
    "    GOOGLE_CLOUD_PROJECT=\"aurite-dev\",\n",
    "    GOOGLE_CLOUD_BUCKET=\"aurite-txtai-dev\",\n",
    "    GOOGLE_APPLICATION_CREDENTIALS=\"/home/wilcoxr/workspace/txtai-aurite/config/service-account.json\",\n",
    "    EMBEDDINGS_PREFIX=\"txtai/test\",  # Prefix for cloud storage path\n",
    ")"
   ]
  },
  {
   "cell_type": "code",
   "execution_count": 3,
   "metadata": {},
   "outputs": [],
   "source": [
    "test_docs = [\n",
    "    {\n",
    "        \"id\": \"doc1\",\n",
    "        \"text\": \"Technical document about database indexing\",\n",
    "        \"metadata\": {\n",
    "            \"type\": \"technical\",\n",
    "            \"tags\": [\"database\", \"index\"],\n",
    "            \"version\": 1.0,\n",
    "        },\n",
    "    },\n",
    "    {\n",
    "        \"id\": \"doc2\",\n",
    "        \"text\": \"Guide to cloud storage systems\",\n",
    "        \"metadata\": {\"type\": \"guide\", \"tags\": [\"cloud\", \"storage\"], \"version\": 1.0},\n",
    "    },\n",
    "]"
   ]
  },
  {
   "cell_type": "code",
   "execution_count": 4,
   "metadata": {},
   "outputs": [
    {
     "name": "stderr",
     "output_type": "stream",
     "text": [
      "INFO:__main__:Testing memory storage...\n",
      "INFO:src.services.embeddings_service:Creating new embeddings index with memory storage\n",
      "INFO:src.services.embeddings_service:Adding 2 documents to index\n"
     ]
    }
   ],
   "source": [
    "# Test memory storage\n",
    "logger.info(\"Testing memory storage...\")\n",
    "memory_service = EmbeddingsService(memory_settings)\n",
    "memory_service.create_index(\"memory\")\n",
    "memory_service.add_documents(test_docs)"
   ]
  },
  {
   "cell_type": "code",
   "execution_count": 5,
   "metadata": {},
   "outputs": [
    {
     "name": "stderr",
     "output_type": "stream",
     "text": [
      "INFO:__main__:Testing SQLite storage...\n",
      "INFO:src.services.embeddings_service:Creating new embeddings index with sqlite storage\n",
      "INFO:src.services.embeddings_service:Adding 2 documents to index\n"
     ]
    }
   ],
   "source": [
    "# Test SQLite storage\n",
    "logger.info(\"Testing SQLite storage...\")\n",
    "sqlite_service = EmbeddingsService(sqlite_settings)\n",
    "sqlite_service.create_index(\"sqlite\", \"txtai/test/content.db\")\n",
    "sqlite_service.add_documents(test_docs)"
   ]
  },
  {
   "cell_type": "code",
   "execution_count": 6,
   "metadata": {},
   "outputs": [
    {
     "name": "stderr",
     "output_type": "stream",
     "text": [
      "INFO:__main__:Testing cloud storage...\n",
      "INFO:src.services.embeddings_service:Creating new embeddings index with cloud storage\n",
      "INFO:src.services.embeddings_service:Adding 2 documents to index\n",
      "INFO:__main__:Saving index to cloud: txtai/test/test_index\n",
      "INFO:src.services.embeddings_service:Saving embeddings index to txtai/test/test_index\n",
      "INFO:__main__:Loading index from cloud\n",
      "INFO:src.services.embeddings_service:Creating new embeddings index with cloud storage\n",
      "INFO:src.services.embeddings_service:Loading embeddings index from txtai/test/test_index\n"
     ]
    }
   ],
   "source": [
    "# Test cloud storage\n",
    "logger.info(\"Testing cloud storage...\")\n",
    "cloud_service = EmbeddingsService(cloud_settings)\n",
    "cloud_service.create_index(\"cloud\")\n",
    "cloud_service.add_documents(test_docs)\n",
    "\n",
    "# Test cloud persistence\n",
    "cloud_path = f\"{cloud_settings.EMBEDDINGS_PREFIX}/test_index\"\n",
    "logger.info(f\"Saving index to cloud: {cloud_path}\")\n",
    "cloud_service.save_index(cloud_path)\n",
    "\n",
    "# Create new service and load from cloud\n",
    "logger.info(\"Loading index from cloud\")\n",
    "new_cloud_service = EmbeddingsService(cloud_settings)\n",
    "new_cloud_service.create_index(\"cloud\")\n",
    "new_cloud_service.load_index(cloud_path)"
   ]
  },
  {
   "cell_type": "code",
   "execution_count": 7,
   "metadata": {},
   "outputs": [
    {
     "name": "stderr",
     "output_type": "stream",
     "text": [
      "INFO:__main__:Testing index persistence...\n",
      "INFO:src.services.embeddings_service:Saving embeddings index to txtai/test/saved_index\n",
      "INFO:src.services.embeddings_service:Creating new embeddings index with memory storage\n",
      "INFO:src.services.embeddings_service:Loading embeddings index from txtai/test/saved_index\n"
     ]
    }
   ],
   "source": [
    "# Test save/load functionality\n",
    "logger.info(\"Testing index persistence...\")\n",
    "save_path = Path(\"txtai/test/saved_index\")\n",
    "memory_service.save_index(str(save_path))\n",
    "\n",
    "new_service = EmbeddingsService(memory_settings)\n",
    "new_service.create_index(\"memory\")\n",
    "new_service.load_index(str(save_path))"
   ]
  }
 ],
 "metadata": {
  "kernelspec": {
   "display_name": "txtai",
   "language": "python",
   "name": "python3"
  },
  "language_info": {
   "codemirror_mode": {
    "name": "ipython",
    "version": 3
   },
   "file_extension": ".py",
   "mimetype": "text/x-python",
   "name": "python",
   "nbconvert_exporter": "python",
   "pygments_lexer": "ipython3",
   "version": "3.11.10"
  }
 },
 "nbformat": 4,
 "nbformat_minor": 2
}
