{
 "cells": [
  {
   "cell_type": "code",
   "execution_count": 1,
   "metadata": {},
   "outputs": [
    {
     "data": {
      "text/plain": [
       "True"
      ]
     },
     "execution_count": 1,
     "metadata": {},
     "output_type": "execute_result"
    }
   ],
   "source": [
    "# Cell 1 - Imports and Setup\n",
    "from pathlib import Path\n",
    "import os\n",
    "from dotenv import load_dotenv\n",
    "from txtai.embeddings import Embeddings\n",
    "import logging\n",
    "import json\n",
    "\n",
    "logging.basicConfig(\n",
    "    level=logging.INFO,\n",
    "    format='%(asctime)s - %(levelname)s - %(message)s'\n",
    ")\n",
    "logger = logging.getLogger(__name__)\n",
    "load_dotenv()"
   ]
  },
  {
   "cell_type": "markdown",
   "metadata": {},
   "source": [
    "# Cloud Storage Configuration\n",
    "\n",
    "This notebook explores txtai's cloud storage capabilities. We'll test:\n",
    "1. Google Cloud Storage integration\n",
    "2. Cloud-specific configurations\n",
    "3. Remote index management\n",
    "4. Performance considerations\n",
    "\n",
    "\n",
    "Here, we'll configure the cloud embeddings to use Google Cloud Storage.\n",
    "\n",
    "The GCS bucket and prefix are loaded from the environment variables.\n",
    "\n",
    "They require the following environment variables to be set:\n",
    "- `GOOGLE_CLOUD_BUCKET`: aurite-txtai-dev\n",
    "- `EMBEDDINGS_PREFIX`: txtai"
   ]
  },
  {
   "cell_type": "code",
   "execution_count": 2,
   "metadata": {},
   "outputs": [
    {
     "name": "stderr",
     "output_type": "stream",
     "text": [
      "2024-11-17 14:26:09,070 - INFO - Initializing cloud embeddings...\n"
     ]
    }
   ],
   "source": [
    "# Cell 2 - Cloud Configuration\n",
    "cloud_config = {\n",
    "    \"path\": \"sentence-transformers/nli-mpnet-base-v2\",\n",
    "    \"content\": True,\n",
    "    \"backend\": \"faiss\",\n",
    "    \"hybrid\": True,\n",
    "    \"scoring\": {\n",
    "        \"method\": \"bm25\",\n",
    "        \"terms\": True,\n",
    "        \"normalize\": True\n",
    "    },\n",
    "    \"batch\": 32,\n",
    "    \"normalize\": True,\n",
    "    \"cloud\": {\n",
    "        \"provider\": \"gcs\", # This tells txtai to use Google Cloud Storage\n",
    "        \"container\": os.getenv(\"GOOGLE_CLOUD_BUCKET\"), # This specifies the name of the bucket where the embeddings will be stored (in GCS)\n",
    "        \"prefix\": os.getenv(\"EMBEDDINGS_PREFIX\") # This specifies the prefix, which is the folder in the bucket where the embeddings will be stored\n",
    "    }\n",
    "}\n",
    "\n",
    "logger.info(\"Initializing cloud embeddings...\")\n",
    "cloud_embeddings = Embeddings(cloud_config)"
   ]
  },
  {
   "cell_type": "markdown",
   "metadata": {},
   "source": [
    "# Cell 3 - Cloud Storage Test Documents\n",
    "\n",
    "We'll create test documents to verify cloud storage functionality.\n",
    "These documents will help us test:\n",
    "1. Remote storage and retrieval\n",
    "2. Index persistence across sessions\n",
    "3. Cloud-specific performance characteristics"
   ]
  },
  {
   "cell_type": "code",
   "execution_count": 3,
   "metadata": {},
   "outputs": [
    {
     "name": "stderr",
     "output_type": "stream",
     "text": [
      "2024-11-17 14:28:15,519 - INFO - Indexing test documents to cloud storage...\n"
     ]
    }
   ],
   "source": [
    "# Cell 3 - Cloud Storage Test Documents\n",
    "test_docs = [\n",
    "    {\n",
    "        \"id\": \"cloud1\",\n",
    "        \"text\": \"Document about cloud storage systems\",\n",
    "        \"metadata\": {\n",
    "            \"type\": \"technical\",\n",
    "            \"tags\": [\"cloud\", \"storage\"],\n",
    "            \"version\": 1.0,\n",
    "            \"environment\": \"production\"\n",
    "        }\n",
    "    },\n",
    "    {\n",
    "        \"id\": \"cloud2\",\n",
    "        \"text\": \"Guide to distributed data management\",\n",
    "        \"metadata\": {\n",
    "            \"type\": \"guide\",\n",
    "            \"tags\": [\"distributed\", \"data\"],\n",
    "            \"difficulty\": \"advanced\",\n",
    "            \"environment\": \"development\"\n",
    "        }\n",
    "    }\n",
    "]\n",
    "\n",
    "# Prepare documents for indexing\n",
    "def prepare_docs(docs):\n",
    "    return [(doc[\"id\"], doc[\"text\"], json.dumps(doc[\"metadata\"])) for doc in docs]\n",
    "\n",
    "logger.info(\"Indexing test documents to cloud storage...\")\n",
    "cloud_embeddings.index(prepare_docs(test_docs))"
   ]
  },
  {
   "cell_type": "markdown",
   "metadata": {},
   "source": [
    "# Cell 4 - Remote Index Management\n",
    "\n",
    "Let's test saving and loading indices to/from cloud storage:\n",
    "1. Save index to cloud\n",
    "2. Load index from cloud\n",
    "3. Verify data consistency"
   ]
  },
  {
   "cell_type": "code",
   "execution_count": 4,
   "metadata": {},
   "outputs": [
    {
     "name": "stderr",
     "output_type": "stream",
     "text": [
      "2024-11-17 14:28:27,183 - INFO - \n",
      "Testing cloud storage persistence:\n",
      "2024-11-17 14:28:27,211 - INFO - Initial search result:\n",
      "2024-11-17 14:28:27,212 - INFO - Text: Document about cloud storage systems\n",
      "2024-11-17 14:28:27,212 - INFO - Saving index to cloud: txtai/test_index\n",
      "2024-11-17 14:28:27,243 - INFO - Loading index from cloud\n",
      "2024-11-17 14:28:28,096 - INFO - Search result after reload:\n",
      "2024-11-17 14:28:28,097 - INFO - Text: Document about cloud storage systems\n"
     ]
    }
   ],
   "source": [
    "# Cell 4 - Remote Index Management\n",
    "def test_cloud_persistence():\n",
    "    logger.info(\"\\nTesting cloud storage persistence:\")\n",
    "\n",
    "    # Initial search\n",
    "    results = cloud_embeddings.search(\"cloud storage\", 1)\n",
    "    logger.info(\"Initial search result:\")\n",
    "    logger.info(f\"Text: {results[0]['text']}\")\n",
    "\n",
    "    # Save to cloud\n",
    "    cloud_path = f\"{os.getenv('EMBEDDINGS_PREFIX')}/test_index\"\n",
    "    logger.info(f\"Saving index to cloud: {cloud_path}\")\n",
    "    cloud_embeddings.save(cloud_path)\n",
    "\n",
    "    # Create new instance and load from cloud\n",
    "    logger.info(\"Loading index from cloud\")\n",
    "    new_embeddings = Embeddings(cloud_config)\n",
    "    new_embeddings.load(cloud_path)\n",
    "\n",
    "    # Verify data\n",
    "    new_results = new_embeddings.search(\"cloud storage\", 1)\n",
    "    logger.info(\"Search result after reload:\")\n",
    "    logger.info(f\"Text: {new_results[0]['text']}\")\n",
    "\n",
    "# Test cloud persistence\n",
    "test_cloud_persistence()"
   ]
  }
 ],
 "metadata": {
  "kernelspec": {
   "display_name": "txtai",
   "language": "python",
   "name": "python3"
  },
  "language_info": {
   "codemirror_mode": {
    "name": "ipython",
    "version": 3
   },
   "file_extension": ".py",
   "mimetype": "text/x-python",
   "name": "python",
   "nbconvert_exporter": "python",
   "pygments_lexer": "ipython3",
   "version": "3.11.10"
  }
 },
 "nbformat": 4,
 "nbformat_minor": 2
}
