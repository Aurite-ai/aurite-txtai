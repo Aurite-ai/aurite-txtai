{
 "cells": [
  {
   "cell_type": "code",
   "execution_count": 1,
   "metadata": {},
   "outputs": [
    {
     "data": {
      "text/plain": [
       "True"
      ]
     },
     "execution_count": 1,
     "metadata": {},
     "output_type": "execute_result"
    }
   ],
   "source": [
    "# Cell 1 - Imports and Setup\n",
    "from pathlib import Path\n",
    "import os\n",
    "from dotenv import load_dotenv\n",
    "from txtai.embeddings import Embeddings\n",
    "import logging\n",
    "import json\n",
    "\n",
    "logging.basicConfig(\n",
    "    level=logging.INFO,\n",
    "    format='%(asctime)s - %(levelname)s - %(message)s'\n",
    ")\n",
    "logger = logging.getLogger(__name__)\n",
    "load_dotenv()"
   ]
  },
  {
   "cell_type": "markdown",
   "metadata": {},
   "source": [
    "# Content Storage Notebook\n",
    "\n",
    "This notebook explores txtai's content storage capabilities. We'll test:\n",
    "1. Different storage backends (SQLite vs Memory)\n",
    "2. Custom index configurations\n",
    "3. Document storage patterns\n",
    "4. Metadata handling\n",
    "\n",
    "Here we define two different storage configurations for the embeddings. One using SQLite and one using in-memory storage.\n",
    "\n",
    "We will then initialize the embeddings with both configurations and compare the results."
   ]
  },
  {
   "cell_type": "code",
   "execution_count": 2,
   "metadata": {},
   "outputs": [
    {
     "name": "stderr",
     "output_type": "stream",
     "text": [
      "2024-11-17 14:15:24,870 - INFO - Initializing embeddings with different storage configs...\n"
     ]
    }
   ],
   "source": [
    "# Cell 2 - Storage Configuration Comparison\n",
    "# Define different storage configurations\n",
    "sqlite_config = {\n",
    "    \"path\": \"sentence-transformers/nli-mpnet-base-v2\",\n",
    "    \"content\": True,\n",
    "    \"contentpath\": \"txtai/test/content.db\",  # SQLite storage\n",
    "    \"backend\": \"faiss\",\n",
    "    \"hybrid\": True,\n",
    "    \"normalize\": True\n",
    "}\n",
    "\n",
    "memory_config = {\n",
    "    \"path\": \"sentence-transformers/nli-mpnet-base-v2\",\n",
    "    \"content\": True,  # In-memory storage\n",
    "    \"backend\": \"faiss\",\n",
    "    \"hybrid\": True,\n",
    "    \"normalize\": True\n",
    "}\n",
    "\n",
    "# Initialize both configurations\n",
    "logger.info(\"Initializing embeddings with different storage configs...\")\n",
    "sqlite_embeddings = Embeddings(sqlite_config)\n",
    "memory_embeddings = Embeddings(memory_config)"
   ]
  },
  {
   "cell_type": "markdown",
   "metadata": {},
   "source": [
    "# Cell 3 - Test Documents with Rich Metadata\n",
    "\n",
    "We'll create test documents with various metadata structures to understand storage patterns.\n",
    "This helps us test how different storage backends handle complex data."
   ]
  },
  {
   "cell_type": "code",
   "execution_count": 3,
   "metadata": {},
   "outputs": [],
   "source": [
    "# Cell 3 - Complex Test Documents\n",
    "test_docs = [\n",
    "    {\n",
    "        \"id\": \"doc1\",\n",
    "        \"text\": \"Technical document about database indexing\",\n",
    "        \"metadata\": {\n",
    "            \"type\": \"technical\",\n",
    "            \"tags\": [\"database\", \"index\"],\n",
    "            \"version\": 1.0,\n",
    "            \"authors\": [\"John Doe\", \"Jane Smith\"]\n",
    "        }\n",
    "    },\n",
    "    {\n",
    "        \"id\": \"doc2\",\n",
    "        \"text\": \"Guide to vector similarity search\",\n",
    "        \"metadata\": {\n",
    "            \"type\": \"guide\",\n",
    "            \"tags\": [\"vector\", \"similarity\"],\n",
    "            \"difficulty\": \"intermediate\",\n",
    "            \"prerequisites\": [\"basic math\", \"python\"]\n",
    "        }\n",
    "    }\n",
    "]\n",
    "\n",
    "# Helper function to prepare documents for indexing\n",
    "def prepare_docs(docs):\n",
    "    return [(i, doc[\"text\"], json.dumps(doc[\"metadata\"])) for i, doc in enumerate(docs)]"
   ]
  },
  {
   "cell_type": "markdown",
   "metadata": {},
   "source": [
    "# Cell 4 - Storage Comparison Tests\n",
    "\n",
    "We'll index the same documents in both storage configurations and compare:\n",
    "1. Storage persistence\n",
    "2. Query response formats\n",
    "3. Metadata retrieval\n",
    "4. Performance characteristics"
   ]
  },
  {
   "cell_type": "code",
   "execution_count": 4,
   "metadata": {},
   "outputs": [
    {
     "name": "stderr",
     "output_type": "stream",
     "text": [
      "2024-11-17 14:15:31,295 - INFO - Indexing documents in SQLite storage...\n",
      "2024-11-17 14:15:31,467 - INFO - Indexing documents in memory storage...\n",
      "2024-11-17 14:15:31,477 - INFO - \n",
      "Comparing search results:\n",
      "2024-11-17 14:15:31,477 - INFO - \n",
      "SQLite Storage Results:\n",
      "2024-11-17 14:15:31,502 - INFO - Text: Technical document about database indexing\n",
      "2024-11-17 14:15:31,502 - INFO - Score: 0.729941209462623\n",
      "2024-11-17 14:15:31,502 - INFO - Metadata: None\n",
      "2024-11-17 14:15:31,503 - INFO - ---\n",
      "2024-11-17 14:15:31,503 - INFO - Text: Guide to vector similarity search\n",
      "2024-11-17 14:15:31,503 - INFO - Score: 0.4563615721003911\n",
      "2024-11-17 14:15:31,503 - INFO - Metadata: None\n",
      "2024-11-17 14:15:31,504 - INFO - ---\n",
      "2024-11-17 14:15:31,504 - INFO - \n",
      "Memory Storage Results:\n",
      "2024-11-17 14:15:31,516 - INFO - Text: Technical document about database indexing\n",
      "2024-11-17 14:15:31,518 - INFO - Score: 0.729941209462623\n",
      "2024-11-17 14:15:31,519 - INFO - Metadata: None\n",
      "2024-11-17 14:15:31,519 - INFO - ---\n",
      "2024-11-17 14:15:31,520 - INFO - Text: Guide to vector similarity search\n",
      "2024-11-17 14:15:31,520 - INFO - Score: 0.4563615721003911\n",
      "2024-11-17 14:15:31,521 - INFO - Metadata: None\n",
      "2024-11-17 14:15:31,521 - INFO - ---\n"
     ]
    }
   ],
   "source": [
    "# Cell 4 - Storage Comparison Tests\n",
    "# Index documents in both configurations\n",
    "prepared_docs = prepare_docs(test_docs)\n",
    "\n",
    "logger.info(\"Indexing documents in SQLite storage...\")\n",
    "sqlite_embeddings.index(prepared_docs)\n",
    "\n",
    "logger.info(\"Indexing documents in memory storage...\")\n",
    "memory_embeddings.index(prepared_docs)\n",
    "\n",
    "# Test query to compare results\n",
    "test_query = \"database indexing guide\"\n",
    "\n",
    "logger.info(\"\\nComparing search results:\")\n",
    "logger.info(\"\\nSQLite Storage Results:\")\n",
    "sqlite_results = sqlite_embeddings.search(test_query, 2)\n",
    "for result in sqlite_results:\n",
    "    logger.info(f\"Text: {result['text']}\")\n",
    "    logger.info(f\"Score: {result['score']}\")\n",
    "    logger.info(f\"Metadata: {json.loads(result['metadata']) if result.get('metadata') else None}\")\n",
    "    logger.info(\"---\")\n",
    "\n",
    "logger.info(\"\\nMemory Storage Results:\")\n",
    "memory_results = memory_embeddings.search(test_query, 2)\n",
    "for result in memory_results:\n",
    "    logger.info(f\"Text: {result['text']}\")\n",
    "    logger.info(f\"Score: {result['score']}\")\n",
    "    logger.info(f\"Metadata: {json.loads(result['metadata']) if result.get('metadata') else None}\")\n",
    "    logger.info(\"---\")"
   ]
  },
  {
   "cell_type": "markdown",
   "metadata": {},
   "source": [
    "# Cell 5 - Storage Persistence Test\n",
    "\n",
    "Let's test how storage persistence works:\n",
    "1. Save and reload SQLite storage\n",
    "2. Verify data persistence\n",
    "3. Compare with memory storage after restart"
   ]
  },
  {
   "cell_type": "code",
   "execution_count": 5,
   "metadata": {},
   "outputs": [
    {
     "name": "stderr",
     "output_type": "stream",
     "text": [
      "2024-11-17 14:15:35,111 - INFO - \n",
      "Testing SQLite persistence:\n",
      "2024-11-17 14:15:35,128 - INFO - Initial search result:\n",
      "2024-11-17 14:15:35,131 - INFO - Text: Technical document about database indexing\n",
      "2024-11-17 14:15:35,131 - INFO - Saving index to txtai/test/sqlite\n",
      "2024-11-17 14:15:35,162 - INFO - Loading saved index\n",
      "2024-11-17 14:15:36,316 - INFO - Search result after reload:\n",
      "2024-11-17 14:15:36,317 - INFO - Text: Technical document about database indexing\n",
      "2024-11-17 14:15:36,323 - INFO - \n",
      "Testing Memory persistence:\n",
      "2024-11-17 14:15:36,336 - INFO - Initial search result:\n",
      "2024-11-17 14:15:36,339 - INFO - Text: Technical document about database indexing\n",
      "2024-11-17 14:15:36,339 - INFO - Saving index to txtai/test/memory\n",
      "2024-11-17 14:15:36,369 - INFO - Loading saved index\n",
      "2024-11-17 14:15:37,167 - INFO - Search result after reload:\n",
      "2024-11-17 14:15:37,167 - INFO - Text: Technical document about database indexing\n"
     ]
    }
   ],
   "source": [
    "# Cell 5 - Storage Persistence Test\n",
    "import time\n",
    "import os\n",
    "\n",
    "# Create test directory if it doesn't exist\n",
    "os.makedirs(\"txtai/test\", exist_ok=True)\n",
    "\n",
    "def test_persistence(embeddings, name):\n",
    "    logger.info(f\"\\nTesting {name} persistence:\")\n",
    "    index_path = f\"txtai/test/{name.lower()}\"\n",
    "\n",
    "    # Initial search\n",
    "    results = embeddings.search(\"database\", 1)\n",
    "    logger.info(\"Initial search result:\")\n",
    "    logger.info(f\"Text: {results[0]['text']}\")\n",
    "\n",
    "    # Save index\n",
    "    logger.info(f\"Saving index to {index_path}\")\n",
    "    embeddings.save(index_path)\n",
    "\n",
    "    # Create new instance and load saved index\n",
    "    logger.info(\"Loading saved index\")\n",
    "    if name == \"SQLite\":\n",
    "        new_embeddings = Embeddings(sqlite_config)\n",
    "        new_embeddings.load(index_path)\n",
    "    else:\n",
    "        new_embeddings = Embeddings(memory_config)\n",
    "        new_embeddings.load(index_path)\n",
    "\n",
    "    # Search with new instance\n",
    "    new_results = new_embeddings.search(\"database\", 1)\n",
    "    logger.info(\"Search result after reload:\")\n",
    "    logger.info(f\"Text: {new_results[0]['text'] if new_results else 'No results'}\")\n",
    "\n",
    "# Test both storage types\n",
    "test_persistence(sqlite_embeddings, \"SQLite\")\n",
    "test_persistence(memory_embeddings, \"Memory\")"
   ]
  }
 ],
 "metadata": {
  "kernelspec": {
   "display_name": "txtai",
   "language": "python",
   "name": "python3"
  },
  "language_info": {
   "codemirror_mode": {
    "name": "ipython",
    "version": 3
   },
   "file_extension": ".py",
   "mimetype": "text/x-python",
   "name": "python",
   "nbconvert_exporter": "python",
   "pygments_lexer": "ipython3",
   "version": "3.11.10"
  }
 },
 "nbformat": 4,
 "nbformat_minor": 2
}
